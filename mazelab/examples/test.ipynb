{
 "cells": [
  {
   "cell_type": "code",
   "execution_count": 1,
   "id": "9467b587-6197-40af-af8d-5c25432561cd",
   "metadata": {},
   "outputs": [
    {
     "name": "stdout",
     "output_type": "stream",
     "text": [
      "Obtaining file:///local_data/gym-oaas\n",
      "Collecting gym\n",
      "  Downloading gym-0.18.3.tar.gz (1.6 MB)\n",
      "\u001b[K     |████████████████████████████████| 1.6 MB 10.5 MB/s eta 0:00:01\n",
      "\u001b[?25hRequirement already satisfied: Pillow<=8.2.0 in /usr/lib/python3/dist-packages (from gym->gym-oaas==0.0.1) (7.0.0)\n",
      "Collecting cloudpickle<1.7.0,>=1.2.0\n",
      "  Downloading cloudpickle-1.6.0-py3-none-any.whl (23 kB)\n",
      "Requirement already satisfied: numpy>=1.10.4 in /usr/lib/python3/dist-packages (from gym->gym-oaas==0.0.1) (1.17.4)\n",
      "Collecting pyglet<=1.5.15,>=1.4.0\n",
      "  Downloading pyglet-1.5.15-py3-none-any.whl (1.1 MB)\n",
      "\u001b[K     |████████████████████████████████| 1.1 MB 12.4 MB/s eta 0:00:01\n",
      "\u001b[?25hCollecting scipy\n",
      "  Downloading scipy-1.7.0-cp38-cp38-manylinux_2_5_x86_64.manylinux1_x86_64.whl (28.4 MB)\n",
      "\u001b[K     |████████████████████████████████| 28.4 MB 10.8 MB/s eta 0:00:01\n",
      "\u001b[?25hBuilding wheels for collected packages: gym\n",
      "  Building wheel for gym (setup.py) ... \u001b[?25ldone\n",
      "\u001b[?25h  Created wheel for gym: filename=gym-0.18.3-py3-none-any.whl size=1657515 sha256=08b8e65bdd28e23157ee8817d49427c654816901594188e7c0faa4e3d04fa078\n",
      "  Stored in directory: /root/.cache/pip/wheels/b3/03/54/9141c232861b89be935b37bdde0ea5ab472f5e18fc20623aed\n",
      "Successfully built gym\n",
      "Installing collected packages: cloudpickle, pyglet, scipy, gym, gym-oaas\n",
      "  Running setup.py develop for gym-oaas\n",
      "Successfully installed cloudpickle-1.6.0 gym-0.18.3 gym-oaas pyglet-1.5.15 scipy-1.7.0\n"
     ]
    }
   ],
   "source": [
    "!pip install -e gym-oaas"
   ]
  },
  {
   "cell_type": "code",
   "execution_count": 2,
   "id": "abeef940-8abf-4294-badb-39440e8db9be",
   "metadata": {},
   "outputs": [
    {
     "name": "stdout",
     "output_type": "stream",
     "text": [
      "./gym-oaas/test.py: 1: import: not found\n",
      "./gym-oaas/test.py: 2: import: not found\n",
      "./gym-oaas/test.py: 3: from: not found\n",
      "./gym-oaas/test.py: 4: import: not found\n",
      "./gym-oaas/test.py: 6: Syntax error: \"(\" unexpected\n"
     ]
    }
   ],
   "source": [
    "!./gym-oaas/test.py"
   ]
  },
  {
   "cell_type": "code",
   "execution_count": null,
   "id": "40e57864-d5f8-46f4-863b-e7b52f633847",
   "metadata": {},
   "outputs": [],
   "source": []
  }
 ],
 "metadata": {
  "kernelspec": {
   "display_name": "Python 3 (ipykernel)",
   "language": "python",
   "name": "python3"
  },
  "language_info": {
   "codemirror_mode": {
    "name": "ipython",
    "version": 3
   },
   "file_extension": ".py",
   "mimetype": "text/x-python",
   "name": "python",
   "nbconvert_exporter": "python",
   "pygments_lexer": "ipython3",
   "version": "3.8.10"
  }
 },
 "nbformat": 4,
 "nbformat_minor": 5
}
