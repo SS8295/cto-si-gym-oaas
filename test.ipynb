{
 "cells": [
  {
   "cell_type": "code",
   "execution_count": 1,
   "id": "9467b587-6197-40af-af8d-5c25432561cd",
   "metadata": {},
   "outputs": [
    {
     "name": "stdout",
     "output_type": "stream",
     "text": [
      "Obtaining file:///local_data/gym-oaas\n",
      "Collecting gym\n",
      "  Downloading gym-0.18.3.tar.gz (1.6 MB)\n",
      "\u001b[K     |████████████████████████████████| 1.6 MB 10.5 MB/s eta 0:00:01\n",
      "\u001b[?25hRequirement already satisfied: Pillow<=8.2.0 in /usr/lib/python3/dist-packages (from gym->gym-oaas==0.0.1) (7.0.0)\n",
      "Collecting cloudpickle<1.7.0,>=1.2.0\n",
      "  Downloading cloudpickle-1.6.0-py3-none-any.whl (23 kB)\n",
      "Requirement already satisfied: numpy>=1.10.4 in /usr/lib/python3/dist-packages (from gym->gym-oaas==0.0.1) (1.17.4)\n",
      "Collecting pyglet<=1.5.15,>=1.4.0\n",
      "  Downloading pyglet-1.5.15-py3-none-any.whl (1.1 MB)\n",
      "\u001b[K     |████████████████████████████████| 1.1 MB 12.4 MB/s eta 0:00:01\n",
      "\u001b[?25hCollecting scipy\n",
      "  Downloading scipy-1.7.0-cp38-cp38-manylinux_2_5_x86_64.manylinux1_x86_64.whl (28.4 MB)\n",
      "\u001b[K     |████████████████████████████████| 28.4 MB 10.8 MB/s eta 0:00:01\n",
      "\u001b[?25hBuilding wheels for collected packages: gym\n",
      "  Building wheel for gym (setup.py) ... \u001b[?25ldone\n",
      "\u001b[?25h  Created wheel for gym: filename=gym-0.18.3-py3-none-any.whl size=1657515 sha256=08b8e65bdd28e23157ee8817d49427c654816901594188e7c0faa4e3d04fa078\n",
      "  Stored in directory: /root/.cache/pip/wheels/b3/03/54/9141c232861b89be935b37bdde0ea5ab472f5e18fc20623aed\n",
      "Successfully built gym\n",
      "Installing collected packages: cloudpickle, pyglet, scipy, gym, gym-oaas\n",
      "  Running setup.py develop for gym-oaas\n",
      "Successfully installed cloudpickle-1.6.0 gym-0.18.3 gym-oaas pyglet-1.5.15 scipy-1.7.0\n"
     ]
    }
   ],
   "source": [
    "!pip install -e gym-oaas"
   ]
  },
  {
   "cell_type": "code",
   "execution_count": 1,
   "id": "abeef940-8abf-4294-badb-39440e8db9be",
   "metadata": {},
   "outputs": [
    {
     "name": "stdout",
     "output_type": "stream",
     "text": [
      "anyio==3.2.1\n",
      "argon2-cffi==20.1.0\n",
      "async-generator==1.10\n",
      "attrs==21.2.0\n",
      "Babel==2.9.1\n",
      "backcall==0.2.0\n",
      "bleach==3.3.0\n",
      "certifi==2021.5.30\n",
      "cffi==1.14.5\n",
      "chardet==4.0.0\n",
      "cycler==0.10.0\n",
      "debugpy==1.3.0\n",
      "decorator==5.0.9\n",
      "defusedxml==0.7.1\n",
      "entrypoints==0.3\n",
      "idna==2.10\n",
      "ipykernel==6.0.1\n",
      "ipython==7.25.0\n",
      "ipython-genutils==0.2.0\n",
      "jedi==0.18.0\n",
      "Jinja2==3.0.1\n",
      "json5==0.9.6\n",
      "jsonschema==3.2.0\n",
      "jupyter-client==6.1.12\n",
      "jupyter-core==4.7.1\n",
      "jupyter-server==1.9.0\n",
      "jupyterlab==3.0.16\n",
      "jupyterlab-pygments==0.1.2\n",
      "jupyterlab-server==2.6.0\n",
      "kiwisolver==1.0.1\n",
      "MarkupSafe==2.0.1\n",
      "matplotlib==3.1.2\n",
      "matplotlib-inline==0.1.2\n",
      "mistune==0.8.4\n",
      "nbclassic==0.3.1\n",
      "nbclient==0.5.3\n",
      "nbconvert==6.1.0\n",
      "nbformat==5.1.3\n",
      "nest-asyncio==1.5.1\n",
      "notebook==6.4.0\n",
      "numpy==1.17.4\n",
      "olefile==0.46\n",
      "packaging==21.0\n",
      "pandocfilters==1.4.3\n",
      "parso==0.8.2\n",
      "pexpect==4.8.0\n",
      "pickleshare==0.7.5\n",
      "Pillow==7.0.0\n",
      "prometheus-client==0.11.0\n",
      "prompt-toolkit==3.0.19\n",
      "ptyprocess==0.7.0\n",
      "pycparser==2.20\n",
      "Pygments==2.9.0\n",
      "pyparsing==2.4.6\n",
      "pyrsistent==0.18.0\n",
      "python-dateutil==2.7.3\n",
      "pytz==2021.1\n",
      "pyzmq==22.1.0\n",
      "requests==2.25.1\n",
      "requests-unixsocket==0.2.0\n",
      "Send2Trash==1.7.1\n",
      "six==1.14.0\n",
      "sniffio==1.2.0\n",
      "terminado==0.10.1\n",
      "testpath==0.5.0\n",
      "tornado==6.1\n",
      "traitlets==5.0.5\n",
      "urllib3==1.26.6\n",
      "wcwidth==0.2.5\n",
      "webencodings==0.5.1\n",
      "websocket-client==1.1.0\n"
     ]
    }
   ],
   "source": [
    "!pip freeze"
   ]
  },
  {
   "cell_type": "code",
   "execution_count": null,
   "id": "40e57864-d5f8-46f4-863b-e7b52f633847",
   "metadata": {},
   "outputs": [],
   "source": []
  }
 ],
 "metadata": {
  "kernelspec": {
   "display_name": "Python 3 (ipykernel)",
   "language": "python",
   "name": "python3"
  },
  "language_info": {
   "codemirror_mode": {
    "name": "ipython",
    "version": 3
   },
   "file_extension": ".py",
   "mimetype": "text/x-python",
   "name": "python",
   "nbconvert_exporter": "python",
   "pygments_lexer": "ipython3",
   "version": "3.8.10"
  }
 },
 "nbformat": 4,
 "nbformat_minor": 5
}
