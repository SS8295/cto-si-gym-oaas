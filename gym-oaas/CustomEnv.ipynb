{
 "cells": [
  {
   "cell_type": "markdown",
   "id": "3e24be27-b36b-4f86-8083-b808cd757376",
   "metadata": {},
   "source": [
    "# 1. Install Dependencies"
   ]
  },
  {
   "cell_type": "code",
   "execution_count": null,
   "id": "c8176e70-d53d-499c-8652-5cd7907f165a",
   "metadata": {},
   "outputs": [],
   "source": [
    "!pip install stable-baselines[extra]"
   ]
  },
  {
   "cell_type": "code",
   "execution_count": 3,
   "id": "bb1c845d-60d1-47c8-b049-87ae2e1a2f87",
   "metadata": {},
   "outputs": [],
   "source": [
    "# Import Gym stuff\n",
    "\n",
    "import gym \n",
    "from gym import Env # the superclass to create our own environment\n",
    "from gym.spaces import Discrete, Box, Dict, Tuple, MultiBinary, MultiDiscrete # all spaces in OpenAI gym\n",
    "\n",
    "# Import helpers\n",
    "import numpy as np\n",
    "import random\n",
    "import os\n",
    "\n",
    "# Import Stable Baselines stuff\n",
    "from stable_baselines3 import PPO\n",
    "from stable_baselines3.common.vec_env import VecFrameStack\n",
    "from stable_baselines3.common.evaluation import evaluate_policy"
   ]
  },
  {
   "cell_type": "markdown",
   "id": "2f881c82-0189-4239-8561-0b6063b1bb3d",
   "metadata": {},
   "source": [
    "# 2. Types of Spaces"
   ]
  },
  {
   "cell_type": "markdown",
   "id": "86c064b3-fe7e-4531-8921-8ac526d50030",
   "metadata": {},
   "source": [
    "### 2.1.1 Discrete(n) -> an integer in this range: [0,n)"
   ]
  },
  {
   "cell_type": "code",
   "execution_count": 8,
   "id": "1101fbec-3372-4a3c-a6d4-919ff9bd4b81",
   "metadata": {},
   "outputs": [
    {
     "data": {
      "text/plain": [
       "2"
      ]
     },
     "execution_count": 8,
     "metadata": {},
     "output_type": "execute_result"
    }
   ],
   "source": [
    "Discrete(3).sample()"
   ]
  },
  {
   "cell_type": "markdown",
   "id": "f253da68-f1c8-4371-bcbb-f63948c4f86a",
   "metadata": {},
   "source": [
    "### 2.1.2 Box(low, high, shape)"
   ]
  },
  {
   "cell_type": "code",
   "execution_count": 14,
   "id": "57faa648-7553-4756-91a8-b8a8f30bff8f",
   "metadata": {},
   "outputs": [
    {
     "data": {
      "text/plain": [
       "array([[0.41953257, 0.06215569, 0.7592652 ],\n",
       "       [0.68332195, 0.76335454, 0.3091818 ],\n",
       "       [0.72569877, 0.5437112 , 0.7241394 ]], dtype=float32)"
      ]
     },
     "execution_count": 14,
     "metadata": {},
     "output_type": "execute_result"
    }
   ],
   "source": [
    "Box(0,1,shape=(3,3)).sample() # low value, high value, shape of box, list of lists"
   ]
  },
  {
   "cell_type": "code",
   "execution_count": 15,
   "id": "cef93df3-ad35-4b28-a3e8-c17929f159cf",
   "metadata": {},
   "outputs": [
    {
     "data": {
      "text/plain": [
       "array([0.40188432, 0.4996985 , 0.18260233], dtype=float32)"
      ]
     },
     "execution_count": 15,
     "metadata": {},
     "output_type": "execute_result"
    }
   ],
   "source": [
    "Box(0,1,shape=(3,)).sample() # low value, high value, shape of box, list of lists"
   ]
  },
  {
   "cell_type": "markdown",
   "id": "7aca02bf-5b09-4752-8182-0b058bd2abef",
   "metadata": {},
   "source": [
    "### 2.1.3 MultiBinary(n) -> a binary list size n"
   ]
  },
  {
   "cell_type": "code",
   "execution_count": 68,
   "id": "29486994-0044-41f9-8801-5f2d1db2588b",
   "metadata": {},
   "outputs": [
    {
     "data": {
      "text/plain": [
       "array([0, 1, 0, 0], dtype=int8)"
      ]
     },
     "execution_count": 68,
     "metadata": {},
     "output_type": "execute_result"
    }
   ],
   "source": [
    "MultiBinary(4).sample()"
   ]
  },
  {
   "cell_type": "markdown",
   "id": "10f561a1-3213-4908-bfa0-b4a49dcebe2c",
   "metadata": {},
   "source": [
    "### 2.1.4 MultiDiscrete([list]) -> list of discrete values from 0-index_value"
   ]
  },
  {
   "cell_type": "code",
   "execution_count": 80,
   "id": "90633c87-597a-4201-a07c-8d2f6ccc9621",
   "metadata": {},
   "outputs": [
    {
     "data": {
      "text/plain": [
       "array([3, 1, 0])"
      ]
     },
     "execution_count": 80,
     "metadata": {},
     "output_type": "execute_result"
    }
   ],
   "source": [
    "MultiDiscrete([5,2,2]).sample()"
   ]
  },
  {
   "cell_type": "markdown",
   "id": "74e907d7-81bb-4390-a9d5-7c762292de1d",
   "metadata": {},
   "source": [
    "---"
   ]
  },
  {
   "cell_type": "markdown",
   "id": "3c0a06f7-a3c1-4bec-872e-ad2b41984e1d",
   "metadata": {},
   "source": [
    "### 2.2.1 Wrapper Space Tuple"
   ]
  },
  {
   "cell_type": "code",
   "execution_count": 17,
   "id": "6e39a0c1-cbd7-47de-b629-9896bdded4dd",
   "metadata": {},
   "outputs": [
    {
     "data": {
      "text/plain": [
       "(0, array([0.5012581 , 0.6039192 , 0.21475749], dtype=float32))"
      ]
     },
     "execution_count": 17,
     "metadata": {},
     "output_type": "execute_result"
    }
   ],
   "source": [
    "Tuple((Discrete(3), Box(0,1,shape=(3,)))).sample()"
   ]
  },
  {
   "cell_type": "markdown",
   "id": "7853b44c-6f48-4c75-a0c8-c8fad0411c60",
   "metadata": {},
   "source": [
    "### 2.2.2 Wrapper Space Dict"
   ]
  },
  {
   "cell_type": "code",
   "execution_count": 42,
   "id": "ab92e521-c42c-40ae-91b5-4145e0410ed7",
   "metadata": {},
   "outputs": [
    {
     "data": {
      "text/plain": [
       "OrderedDict([('height', 0), ('speed', array([10.212136], dtype=float32))])"
      ]
     },
     "execution_count": 42,
     "metadata": {},
     "output_type": "execute_result"
    }
   ],
   "source": [
    "Dict({'height':Discrete(2), 'speed':Box(0,100,shape=(1,))}).sample()"
   ]
  },
  {
   "cell_type": "markdown",
   "id": "7c5a633d-5747-48a1-99bf-b7fa8d9e55d4",
   "metadata": {},
   "source": [
    "# 3. Building an environment"
   ]
  },
  {
   "cell_type": "code",
   "execution_count": 84,
   "id": "1481c762-093f-4497-9517-1f99d79add9c",
   "metadata": {},
   "outputs": [
    {
     "data": {
      "text/plain": [
       "array([[[ 43.737316 , 155.54675  , 245.06679  ],\n",
       "        [ 10.0939045, 203.284    , 111.23647  ],\n",
       "        [171.26271  ,  87.62479  ,  31.534622 ],\n",
       "        [ 69.20448  ,  74.20101  ,  52.334316 ],\n",
       "        [ 63.22423  ,  47.51977  , 214.14557  ],\n",
       "        [202.06992  , 168.43617  , 200.65025  ],\n",
       "        [161.11113  , 162.69044  , 129.39917  ],\n",
       "        [ 41.295338 , 216.3721   ,  62.58159  ],\n",
       "        [242.01915  , 159.84242  , 124.22362  ],\n",
       "        [164.67651  , 128.56833  ,  88.76878  ]],\n",
       "\n",
       "       [[181.11075  , 174.29988  ,  74.13048  ],\n",
       "        [ 75.61644  ,  75.604    , 123.48941  ],\n",
       "        [254.75487  , 136.55449  , 159.0055   ],\n",
       "        [ 43.065838 ,  88.65428  , 183.9955   ],\n",
       "        [ 54.056934 , 161.99127  , 103.738304 ],\n",
       "        [ 27.556282 , 167.58179  , 121.10621  ],\n",
       "        [120.59809  ,  31.775696 , 249.1367   ],\n",
       "        [149.30173  , 144.97403  , 179.73125  ],\n",
       "        [112.62136  , 159.41138  , 178.8009   ],\n",
       "        [ 17.917181 ,  55.535873 , 176.50002  ]],\n",
       "\n",
       "       [[104.06332  ,  12.220653 , 174.41096  ],\n",
       "        [136.0195   ,  73.6158   ,  35.107216 ],\n",
       "        [248.68867  , 127.670555 ,  56.446644 ],\n",
       "        [230.67409  , 117.29717  , 225.11064  ],\n",
       "        [221.10214  , 206.59326  ,  64.752045 ],\n",
       "        [ 40.033066 , 131.90015  , 108.987076 ],\n",
       "        [145.98383  ,  95.12966  ,  80.7214   ],\n",
       "        [ 78.922134 , 189.27441  , 205.05792  ],\n",
       "        [121.628525 , 245.59692  ,   3.2569528],\n",
       "        [102.557884 , 102.74665  ,   5.7146716]],\n",
       "\n",
       "       [[230.7151   , 196.20633  ,   2.860485 ],\n",
       "        [141.57277  ,  82.44643  , 184.17699  ],\n",
       "        [133.30368  ,   5.3515625,  79.8591   ],\n",
       "        [239.79594  ,   2.646713 , 236.7156   ],\n",
       "        [234.93195  , 103.15992  , 245.78804  ],\n",
       "        [252.30537  ,  38.588333 ,   1.2348726],\n",
       "        [ 95.99786  ,  71.08908  ,  33.70953  ],\n",
       "        [200.72061  ,  89.150536 ,  72.077995 ],\n",
       "        [ 72.07693  ,  92.949425 , 208.95235  ],\n",
       "        [215.50565  , 185.24908  , 222.22098  ]],\n",
       "\n",
       "       [[132.53569  ,  58.183006 , 204.2064   ],\n",
       "        [172.34512  , 157.71986  ,  38.29459  ],\n",
       "        [191.17012  , 150.25266  , 100.52165  ],\n",
       "        [203.12624  , 229.96887  ,   4.5668707],\n",
       "        [ 60.468014 ,  91.396355 , 213.0299   ],\n",
       "        [169.6569   , 161.23056  ,  63.006058 ],\n",
       "        [  3.909562 ,  99.809616 , 167.217    ],\n",
       "        [190.09726  ,   8.340802 , 160.03314  ],\n",
       "        [160.29333  , 106.478806 ,  99.55449  ],\n",
       "        [ 27.284998 ,  92.23957  , 143.11653  ]],\n",
       "\n",
       "       [[158.69012  , 222.33716  ,  53.63642  ],\n",
       "        [ 36.655785 ,  74.30145  ,  49.898006 ],\n",
       "        [215.00967  , 143.83798  ,  12.192698 ],\n",
       "        [ 74.04846  , 132.1083   ,  18.596046 ],\n",
       "        [ 52.61308  ,  85.48923  , 169.65086  ],\n",
       "        [170.53311  , 135.03035  , 105.2325   ],\n",
       "        [ 68.01143  ,  41.5362   , 154.03716  ],\n",
       "        [149.65007  , 206.893    , 111.73405  ],\n",
       "        [180.5889   ,  16.245028 ,  16.074604 ],\n",
       "        [225.70229  , 105.65656  ,  14.6651125]],\n",
       "\n",
       "       [[205.37642  , 145.42351  , 165.97409  ],\n",
       "        [205.32762  ,  83.042816 , 213.2117   ],\n",
       "        [239.97252  ,  14.891151 , 253.3225   ],\n",
       "        [123.106125 , 160.65788  , 138.41098  ],\n",
       "        [ 23.333666 , 126.945694 , 229.85905  ],\n",
       "        [ 61.351433 , 234.88304  ,  93.24837  ],\n",
       "        [235.38681  , 204.83144  , 190.51805  ],\n",
       "        [197.46245  , 109.75531  , 204.18352  ],\n",
       "        [135.96236  , 141.17293  , 217.85048  ],\n",
       "        [ 75.72828  , 184.29732  ,  15.596889 ]],\n",
       "\n",
       "       [[116.897224 ,  64.04424  ,  61.371708 ],\n",
       "        [ 17.286213 ,  27.341736 ,  50.98123  ],\n",
       "        [ 69.68469  , 220.18607  ,  34.698044 ],\n",
       "        [220.9706   ,  44.79412  ,  29.385424 ],\n",
       "        [ 29.142824 , 140.24738  , 210.78708  ],\n",
       "        [162.87407  , 197.91762  ,   3.8348317],\n",
       "        [176.45067  , 211.93765  , 102.78945  ],\n",
       "        [224.58943  ,  20.545975 , 109.97496  ],\n",
       "        [203.03438  , 168.23424  ,  26.355057 ],\n",
       "        [113.673676 , 169.38756  ,  15.8798065]],\n",
       "\n",
       "       [[110.05474  , 192.48552  , 156.32066  ],\n",
       "        [ 70.249405 ,  60.895367 ,  49.428528 ],\n",
       "        [192.3164   ,  59.839436 ,  96.29369  ],\n",
       "        [ 86.33004  ,  92.13914  ,  90.78195  ],\n",
       "        [ 61.282658 ,  30.35894  , 176.37486  ],\n",
       "        [  6.285578 ,  58.650925 ,  52.349266 ],\n",
       "        [230.68875  ,  27.048803 , 141.68625  ],\n",
       "        [ 80.197876 , 200.94156  , 147.40775  ],\n",
       "        [ 80.67388  , 167.09421  , 159.03888  ],\n",
       "        [ 39.971115 , 181.18149  ,  45.681606 ]],\n",
       "\n",
       "       [[180.01962  , 231.92851  , 109.66435  ],\n",
       "        [149.92097  , 231.262    ,  55.379917 ],\n",
       "        [148.68684  , 117.19015  ,  38.386787 ],\n",
       "        [ 24.852942 ,  30.145475 , 252.65071  ],\n",
       "        [253.031    , 149.77568  , 179.56476  ],\n",
       "        [198.9405   ,   3.4483643, 146.54974  ],\n",
       "        [ 95.507935 , 117.60489  , 244.21736  ],\n",
       "        [236.03258  ,  47.497696 ,  84.18646  ],\n",
       "        [ 60.056984 ,  66.24541  ,  29.112068 ],\n",
       "        [247.55432  , 104.335434 , 120.82707  ]]], dtype=float32)"
      ]
     },
     "execution_count": 84,
     "metadata": {},
     "output_type": "execute_result"
    }
   ],
   "source": [
    "height = 10\n",
    "width = 10\n",
    "Box(0, 255, [height, width, 3]).sample()"
   ]
  },
  {
   "cell_type": "markdown",
   "id": "7dcaf255-9ea8-400c-b768-1dc8a084f57d",
   "metadata": {},
   "source": [
    "# 4. etcetc"
   ]
  },
  {
   "cell_type": "code",
   "execution_count": null,
   "id": "75eaf23f-f060-4fbf-8896-1e42c06b5206",
   "metadata": {},
   "outputs": [],
   "source": []
  }
 ],
 "metadata": {
  "kernelspec": {
   "display_name": "Python 3 (ipykernel)",
   "language": "python",
   "name": "python3"
  },
  "language_info": {
   "codemirror_mode": {
    "name": "ipython",
    "version": 3
   },
   "file_extension": ".py",
   "mimetype": "text/x-python",
   "name": "python",
   "nbconvert_exporter": "python",
   "pygments_lexer": "ipython3",
   "version": "3.8.10"
  }
 },
 "nbformat": 4,
 "nbformat_minor": 5
}
